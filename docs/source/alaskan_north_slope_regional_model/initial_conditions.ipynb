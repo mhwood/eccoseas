{
 "cells": [
  {
   "cell_type": "markdown",
   "id": "9dc175c8-f744-4655-9037-b313c486c951",
   "metadata": {},
   "source": [
    "# Initial Conditions\n",
    "\n",
    "Next, we will explore the creation of the initial conditions. In our previous example models, the initial conditions were generated using model output fields generated as monthly averages. Here, will explore a different approach using existing pickups\n",
    "\n",
    "First, import packages to visualize the model fields here:"
   ]
  },
  {
   "cell_type": "code",
   "execution_count": 1,
   "id": "836f57c0-6983-48ce-b8a0-31c5b04463a7",
   "metadata": {},
   "outputs": [],
   "source": [
    "# import modules for computation and plotting\n",
    "import os\n",
    "import numpy as np\n",
    "import matplotlib.pyplot as plt\n",
    "from matplotlib.gridspec import GridSpec\n",
    "import netCDF4 as nc4\n",
    "\n",
    "# import pertinent tools from eccoseas\n",
    "from eccoseas.ecco import pickup\n",
    "from eccoseas.ecco import grid\n",
    "from eccoseas.downscale import horizontal"
   ]
  },
  {
   "cell_type": "markdown",
   "id": "9ea649be-1868-47e6-a895-1cf4b03d5cdf",
   "metadata": {},
   "source": [
    "Next, define the location of the data for this mo. This is the same directory that holds the bathymetry file generated in the previous notebooks for this model example."
   ]
  },
  {
   "cell_type": "code",
   "execution_count": 2,
   "id": "08d8f138-1542-4af2-845e-ab0acad86dec",
   "metadata": {},
   "outputs": [],
   "source": [
    "# define the data directory\n",
    "data_dir = '../../../data/alaskan_north_slope'"
   ]
  },
  {
   "cell_type": "markdown",
   "id": "5ea43d2c-8106-4b7e-9d71-dda71ff556e4",
   "metadata": {},
   "source": [
    "## Constructing the Initial Conditions\n",
    "For this model, we use the pickup"
   ]
  },
  {
   "cell_type": "markdown",
   "id": "7c5328af-a028-439b-a89a-4f39b72a9a65",
   "metadata": {},
   "source": [
    "### Step 1: Download the ECCO Files\n",
    "To begin, I downloaded the model pickups for the ECCO Version 5 Alpha state estimate. These fields are available [HERE](https://ecco.jpl.nasa.gov/drive/files/Version5/Alpha/input_init). In particular, I downloaded the following list of files that contain the field pertaining to starting point of my model (January 2008):\n",
    "\n",
    "| Data | Metadata |\n",
    "| -------- | --------- |\n",
    "|pickup.0000000001.data|pickup.0000000001.meta|\n",
    "\n",
    "In addition to the data above, we also need the grid information. We read this in from https://ecco.jpl.nasa.gov/drive/files/Version5/Alpha/nctiles_grid:\n",
    "\n",
    "- tile001.mitgrid\n",
    "- tile002.mitgrid\n",
    "- tile003.mitgrid\n",
    "- tile004.mitgrid\n",
    "- tile005.mitgrid\n",
    "- AngleCS.data\n",
    "- AngleSN.data\n",
    "- hFacC.data\n",
    "\n",
    "\n",
    "I stored these fields in the data directory define above."
   ]
  },
  {
   "cell_type": "markdown",
   "id": "d170a9e7-8862-4e25-b732-1268f2c77c5a",
   "metadata": {},
   "source": [
    "### Step 2: Read in the pickup file\n",
    "To read in the pickup, we will rely on the `pickup` module from the `eccoseas.ecco`:"
   ]
  },
  {
   "cell_type": "code",
   "execution_count": 3,
   "id": "a925b6ec-93ab-429b-a830-d6591b15a327",
   "metadata": {},
   "outputs": [
    {
     "name": "stderr",
     "output_type": "stream",
     "text": [
      "/Users/mike/opt/anaconda3/envs/mitgcm/lib/python3.10/site-packages/eccoseas/ecco/grid.py:59: RuntimeWarning: invalid value encountered in cast\n",
      "  field_faces[i][nr,:,:] = grid\n"
     ]
    }
   ],
   "source": [
    "global_pickup_faces, global_pickup_metadata = \\\n",
    "    pickup.read_ecco_pickup_file_to_faces(os.path.join(data_dir,'pickup.0000000001'), llc=270)"
   ]
  },
  {
   "cell_type": "markdown",
   "id": "0a736757",
   "metadata": {},
   "source": [
    "The function to read the pickup file returns both the data as well as the metadata. Let's have a look at the fields in the data:"
   ]
  },
  {
   "cell_type": "code",
   "execution_count": 4,
   "id": "0bd668dc",
   "metadata": {},
   "outputs": [
    {
     "name": "stdout",
     "output_type": "stream",
     "text": [
      "{'nDims': 2, 'dimList': [[270, 1, 270], [3510, 1, 3510]], 'dataprec': 'float64', 'nrecords': 403, 'timeStepNumber': 78841, 'timeInterval': 94609200.0, 'nFlds': 11, 'fldList': ['Uvel', 'Vvel', 'Theta', 'Salt', 'GuNm1', 'GuNm2', 'GvNm1', 'GvNm2', 'EtaN', 'dEtaHdt', 'EtaH']}\n"
     ]
    }
   ],
   "source": [
    "print(global_pickup_metadata)"
   ]
  },
  {
   "cell_type": "markdown",
   "id": "566e471c",
   "metadata": {},
   "source": [
    "Next, we need to convert the fields to the ECCO tiles"
   ]
  },
  {
   "cell_type": "code",
   "execution_count": 5,
   "id": "ebc80eed",
   "metadata": {},
   "outputs": [],
   "source": [
    "global_pickup_tiles = {}\n",
    "for field_name in global_pickup_metadata['fldList']:\n",
    "    field_faces = global_pickup_faces[field_name]\n",
    "    field_tiles = grid.ecco_faces_to_tiles(field_faces, llc=270, dim=3)\n",
    "    global_pickup_tiles[field_name] = field_tiles"
   ]
  },
  {
   "cell_type": "markdown",
   "id": "64a135ac-a5bb-4766-83b5-60039dcc0c56",
   "metadata": {},
   "source": [
    "### Step 3: Read in the Regional Model Grid and Mask\n",
    "Since the model grid has already been generated for this model (see note in Overview), we will read it in from the nc file:"
   ]
  },
  {
   "cell_type": "code",
   "execution_count": 6,
   "id": "f48b8cc3-eb40-40c3-b61e-1359d986109d",
   "metadata": {},
   "outputs": [],
   "source": [
    "# define the parameters that will be used in the data file\n",
    "ds = nc4.Dataset('../../../data/alaskan_north_slope/NorthSlope_ncgrid.nc')\n",
    "XC = ds.variables['XC'][:, :]\n",
    "YC = ds.variables['YC'][:, :]\n",
    "hFacC = ds.variables['HFacC'][:, :, :]\n",
    "hFacW = ds.variables['HFacW'][:, :, :]\n",
    "hFacS = ds.variables['HFacS'][:, :, :]\n",
    "ds.close()"
   ]
  },
  {
   "cell_type": "markdown",
   "id": "1eb82b3d-ffa2-4312-916f-3325a0089c6b",
   "metadata": {},
   "source": [
    "The mask is generated by setting all of the non-zero `hFac` points to 1:"
   ]
  },
  {
   "cell_type": "code",
   "execution_count": 7,
   "id": "d1dcfe0a-3641-43d7-99aa-88a48310eeda",
   "metadata": {},
   "outputs": [],
   "source": [
    "maskC = np.copy(hFacC)\n",
    "maskC[maskC>0] = 1\n",
    "\n",
    "maskW = np.copy(hFacW)\n",
    "maskW[maskW>0] = 1\n",
    "\n",
    "maskS = np.copy(hFacS)\n",
    "maskS[maskS>0] = 1"
   ]
  },
  {
   "cell_type": "code",
   "execution_count": 8,
   "id": "0fc3b040",
   "metadata": {},
   "outputs": [],
   "source": [
    "Nr = 50"
   ]
  },
  {
   "cell_type": "code",
   "execution_count": 9,
   "id": "39d58cbc",
   "metadata": {},
   "outputs": [],
   "source": [
    "ecco_XC_faces, ecco_YC_faces, ecco_AngleCS_faces, ecco_AngleSN_faces, ecco_hFacC_faces =\\\n",
    "     grid.read_ecco_geometry_to_faces(data_dir,llc=270)"
   ]
  },
  {
   "cell_type": "code",
   "execution_count": 10,
   "id": "5943a039",
   "metadata": {},
   "outputs": [],
   "source": [
    "ecco_XC_tiles = grid.ecco_faces_to_tiles(ecco_XC_faces, llc=270, dim=2)\n",
    "ecco_YC_tiles = grid.ecco_faces_to_tiles(ecco_YC_faces, llc=270, dim=2)\n",
    "ecco_AngleCS_tiles = grid.ecco_faces_to_tiles(ecco_AngleCS_faces, llc=270, dim=2)\n",
    "ecco_AngleSN_tiles = grid.ecco_faces_to_tiles(ecco_AngleSN_faces, llc=270, dim=2)\n",
    "ecco_hFacC_tiles = grid.ecco_faces_to_tiles(ecco_hFacC_faces, llc=270, dim=3)"
   ]
  },
  {
   "cell_type": "markdown",
   "id": "a37e0e64-13eb-4122-ae3c-0fead095fc9b",
   "metadata": {},
   "source": [
    "### Step 4: Prepare the grids for interpolation\n",
    "At this point, we can use the geometry of both grids to check to see which tiles have the information we need. For this model, we need tiles 7 and 8:"
   ]
  },
  {
   "cell_type": "code",
   "execution_count": 11,
   "id": "b1787f19",
   "metadata": {},
   "outputs": [],
   "source": [
    "# define the tile list\n",
    "tile_list = [7,8]"
   ]
  },
  {
   "cell_type": "markdown",
   "id": "144a3587",
   "metadata": {},
   "source": [
    "Let's verify that these tiles cover our grid:"
   ]
  },
  {
   "cell_type": "code",
   "execution_count": 12,
   "id": "076dfc32-ab58-422e-9b5a-47985af1e190",
   "metadata": {},
   "outputs": [
    {
     "data": {
      "image/png": "[encoded data removed]",
      "text/plain": [
       "<Figure size 432x288 with 1 Axes>"
      ]
     },
     "metadata": {
      "needs_background": "light"
     },
     "output_type": "display_data"
    }
   ],
   "source": [
    "# plot the ECCO tile points\n",
    "for tile in tile_list:\n",
    "    plt.plot(ecco_XC_tiles[tile],ecco_YC_tiles[tile],'k.')\n",
    "\n",
    "# plot the boundary of the regional model\n",
    "plt.plot(XC[:,0],YC[:,0], 'g-')\n",
    "plt.plot(XC[:,-1],YC[:,-1], 'g-')\n",
    "plt.plot(XC[0,:],YC[0,:], 'g-')\n",
    "plt.plot(XC[-1,:],YC[-1,:], 'g-')\n",
    "\n",
    "plt.xlabel('Longitude')\n",
    "plt.ylabel('Latitude')\n",
    "plt.show()"
   ]
  },
  {
   "cell_type": "markdown",
   "id": "b332346e-acea-4d60-9494-8d850824b8f4",
   "metadata": {},
   "source": [
    "As we can see, this model boundary (green) is completely surrounded by the points in tile 7 and 8 (black). We also note that there is extraneous information in points with longitude greater than 0 - I will omit these points as well. Given these observations, now I read in points from just those tiles to use in interpolation:"
   ]
  },
  {
   "cell_type": "code",
   "execution_count": 13,
   "id": "bfd5f5ec-1a41-4da6-81aa-9d121dfa023a",
   "metadata": {},
   "outputs": [],
   "source": [
    "# determine the number of points in each set\n",
    "total_points = 0\n",
    "for tile_number in tile_list:\n",
    "    total_points += np.size(ecco_XC_tiles[tile_number])\n",
    "\n",
    "# make empty arrays to fill in\n",
    "ecco_XC_points = np.zeros((total_points, ))\n",
    "ecco_YC_points = np.zeros((total_points, ))\n",
    "ecco_hFacC_points = np.zeros((Nr, total_points))\n",
    "#ecco_hFacW_points = np.zeros((Nr, total_points))\n",
    "#ecco_hFacS_points = np.zeros((Nr, total_points))\n",
    "ecco_mask_points = np.zeros((Nr, total_points))\n",
    "\n",
    "# loop through the tiles and fill in the XC, YC, and mask points for interpolation\n",
    "points_counted = 0\n",
    "for tile_number in tile_list:\n",
    "    tile_N = np.size(ecco_XC_tiles[tile_number])\n",
    "    \n",
    "    ecco_XC_points[points_counted:points_counted+tile_N] = ecco_XC_tiles[tile_number].ravel()\n",
    "    ecco_YC_points[points_counted:points_counted+tile_N] = ecco_YC_tiles[tile_number].ravel()\n",
    "    \n",
    "    for k in range(Nr):\n",
    "        level_hFacC = ecco_hFacC_tiles[tile_number][k, :, :]\n",
    "        #level_hFacW = ecco_hFacW_tiles[tile_number][k, :, :]\n",
    "        #level_hFacS = ecco_hFacS_tiles[tile_number][k, :, :]\n",
    "        level_mask = np.copy(level_hFacC)\n",
    "        level_mask[level_mask>0] = 1\n",
    "        ecco_hFacC_points[k, points_counted:points_counted+tile_N] = level_hFacC.ravel()\n",
    "        #ecco_hFacW_points[k, points_counted:points_counted+tile_N] = level_hFacW.ravel()\n",
    "        #ecco_hFacS_points[k, points_counted:points_counted+tile_N] = level_hFacS.ravel()\n",
    "        ecco_mask_points[k,points_counted:points_counted+tile_N] = level_mask.ravel()\n",
    "    \n",
    "    points_counted += tile_N\n",
    "\n",
    "# remove the points with positive longitude\n",
    "local_indices = ecco_XC_points<0\n",
    "ecco_mask_points = ecco_mask_points[:, local_indices]\n",
    "ecco_hFacC_points = ecco_hFacC_points[:, local_indices]\n",
    "#ecco_hFacW_points = ecco_hFacW_points[:, local_indices]\n",
    "#ecco_hFacS_points = ecco_hFacS_points[:, local_indices]\n",
    "ecco_YC_points = ecco_YC_points[local_indices]\n",
    "ecco_XC_points = ecco_XC_points[local_indices]"
   ]
  },
  {
   "cell_type": "markdown",
   "id": "c4462677-8079-45e5-9faf-d39452350218",
   "metadata": {},
   "source": [
    "Next, we'll read in the real data fields and apply the modifications. First, create a dictionary to store the file names:"
   ]
  },
  {
   "cell_type": "code",
   "execution_count": 14,
   "id": "4dbb96e5-bef6-4307-a5b3-f4441a930f3b",
   "metadata": {},
   "outputs": [],
   "source": [
    "# make a file dictionary to loop over\n",
    "field_names = ['Theta']"
   ]
  },
  {
   "cell_type": "markdown",
   "id": "1bf5206c-6f45-431e-9988-a1b007ce954e",
   "metadata": {},
   "source": [
    "Now, read the initial condition fields from the same tiles. Here, we have to confront the weirdness of the ECCO LLC grid"
   ]
  },
  {
   "cell_type": "code",
   "execution_count": 15,
   "id": "6963b363-9245-4f9b-9f40-2b7318286460",
   "metadata": {},
   "outputs": [],
   "source": [
    "# make a list to hold all of the ECCO grids\n",
    "init_grids = []\n",
    "\n",
    "# loop through each variable to read in the grid\n",
    "for variable_name in field_names:\n",
    "    \n",
    "    if variable_name in ['Theta']:\n",
    "        f_grid_tiles = global_pickup_tiles[variable_name]\n",
    "    else:\n",
    "        ds = nc4.Dataset(os.path.join(data_folder,'UVELMASS_2008.nc'))\n",
    "        u_grid_tiles = ds.variables['UVELMASS'][:,:,:,:,:]\n",
    "        ds.close()\n",
    "        ds = nc4.Dataset(os.path.join(data_folder,'VVELMASS_2008.nc'))\n",
    "        v_grid_tiles = ds.variables['VVELMASS'][:,:,:,:,:]\n",
    "        ds.close()\n",
    "\n",
    "    # create a grid of zeros to fill in\n",
    "    N = np.shape(f_grid_tiles[1])[-1]*np.shape(f_grid_tiles[1])[-2]\n",
    "    if variable_name in ['EtaN']:\n",
    "        init_grid = np.zeros((1, N*len(tile_list)))\n",
    "    else:\n",
    "        init_grid = np.zeros((Nr, N*len(tile_list)))\n",
    "\n",
    "    # loop through the tiles\n",
    "    points_counted = 0\n",
    "    for tile_number in tile_list:\n",
    "        if variable_name in ['EtaN']:\n",
    "            init_grid[0,points_counted:points_counted+N] = \\\n",
    "                 f_grid_tiles[tile_number][0, :, :].ravel()\n",
    "        elif 'VEL' in variable_name: # when using velocity, need to consider the tile rotations\n",
    "            if variable_name == 'UVEL':\n",
    "                if tile_number<7:\n",
    "                    for k in range(Nr):\n",
    "                        init_grid[k,points_counted:points_counted+N] = \\\n",
    "                             u_grid[tile_number][k, :, :].ravel()\n",
    "                else:\n",
    "                    for k in range(Nr):\n",
    "                        init_grid[k,points_counted:points_counted+N] = \\\n",
    "                             v_grid[tile_number][k, :, :].ravel()\n",
    "            if variable_name == 'VVEL':\n",
    "                if tile_number<7:\n",
    "                    for k in range(Nr):\n",
    "                        init_grid[k,points_counted:points_counted+N] = \\\n",
    "                             v_grid[tile_number][k, :, :].ravel()\n",
    "                else:\n",
    "                    for k in range(Nr):\n",
    "                        init_grid[k,points_counted:points_counted+N] = \\\n",
    "                             -1*u_grid[tile_number][k, :, :].ravel()\n",
    "        else:\n",
    "            for k in range(Nr):\n",
    "                init_grid[k,points_counted:points_counted+N] = \\\n",
    "                     f_grid_tiles[tile_number][k, :, :].ravel()\n",
    "        points_counted += N\n",
    "\n",
    "    # remove the points with positive longitudes\n",
    "    init_grid = init_grid[:,local_indices]\n",
    "\n",
    "    # apply some corrections\n",
    "    if variable_name == 'UVEL':\n",
    "        for k in range(Nr):\n",
    "            non_zero_indices = ecco_hFacW_points[k,:]!=0\n",
    "            init_grid[k,non_zero_indices] = init_grid[k,non_zero_indices]/(ecco_hFacW_points[k,non_zero_indices])\n",
    "    if variable_name == 'VVEL':\n",
    "        for k in range(Nr):\n",
    "            non_zero_indices = ecco_hFacS_points[k,:]!=0\n",
    "            init_grid[k,non_zero_indices] = init_grid[k,non_zero_indices]/(ecco_hFacS_points[k,non_zero_indices])\n",
    "    \n",
    "    init_grids.append(init_grid)"
   ]
  },
  {
   "cell_type": "markdown",
   "id": "c8e32043-a3a3-49df-a724-de2be9f98708",
   "metadata": {},
   "source": [
    "### Step 5: Interpolate the Fields onto the Model Grid\n",
    "Next, I will interpolate the ECCO external fields I read in onto my model domain. I will use the `horizonal` module from the `eccoseas` package to accomplish this interpolation."
   ]
  },
  {
   "cell_type": "code",
   "execution_count": null,
   "id": "0c0c804d",
   "metadata": {},
   "outputs": [],
   "source": [
    "interpolated_grid = horizontal.downscale_3D_points(np.column_stack([ecco_XC_points, ecco_YC_points]),\n",
    "                                                       init_grid, ecco_mask_points, \n",
    "                                                       XC, YC, maskC, testing=True)\n",
    "\n",
    "\n",
    "# output the interpolated grid\n",
    "#output_file = os.path.join(input_dir,'ics',variable_name+'_IC.bin')\n",
    "#interpolated_grid.ravel('C').astype('>f4').tofile(output_file)"
   ]
  },
  {
   "cell_type": "code",
   "execution_count": null,
   "id": "f71b19c7",
   "metadata": {},
   "outputs": [],
   "source": [
    "plt.pcolormesh(interpolated_grid)\n",
    "plt.show()"
   ]
  },
  {
   "cell_type": "markdown",
   "id": "8b21a809",
   "metadata": {},
   "source": [
    "### Step 5 (Revised for the Arctic): Interpolate the Fields onto the Model Grid "
   ]
  },
  {
   "cell_type": "code",
   "execution_count": null,
   "id": "d0aae164-a3f8-470b-a973-7f7ddffdcef1",
   "metadata": {},
   "outputs": [],
   "source": [
    "# # loop through each variable and corresponding ECCO grid\n",
    "# for variable_name, init_grid in zip(variable_names, init_grids):\n",
    "\n",
    "#     # print a message to keep track of which variable we are working on\n",
    "#     # uncomment to use\n",
    "#     # print('    - Interpolating the '+variable_name+' grid')\n",
    "\n",
    "#     if variable_name == 'ETAN':\n",
    "#         model_mask = mask[:1,:,:]\n",
    "#     else:\n",
    "#         model_mask = mask\n",
    "\n",
    "#     interpolated_grid = horizontal.downscale_3D_points(np.column_stack([ecco_XC_points, ecco_YC_points]),\n",
    "#                                                        init_grid, ecco_mask_points, \n",
    "#                                                        XC, YC, model_mask)\n",
    "\n",
    "\n",
    "#     # output the interpolated grid\n",
    "#     output_file = os.path.join(input_dir,'ics',variable_name+'_IC.bin')\n",
    "#     interpolated_grid.ravel('C').astype('>f4').tofile(output_file)"
   ]
  },
  {
   "cell_type": "markdown",
   "id": "efe30ee2-7b83-498d-813c-9b9ea152ed6f",
   "metadata": {},
   "source": [
    "### Step 6: Plotting the Initial Condition Fields\n",
    "Now that the fields have been generated, I will plot them to ensure they look as expected. First, I'll generate some metadata for each one:"
   ]
  },
  {
   "cell_type": "code",
   "execution_count": null,
   "id": "e7ac447d-91d1-4a85-b4c3-12529580db54",
   "metadata": {},
   "outputs": [],
   "source": [
    "meta_dict = {'ETAN':[0.1, 0.5, 'viridis', 'm'],\n",
    "            'THETA':[6, 18, 'turbo', 'm'],\n",
    "            'SALT':[32, 35, 'viridis', 'm'],\n",
    "            'UVEL':[-0.25, 0.25, 'seismic', 'm'],\n",
    "            'VVEL':[-0.25, 0.25, 'seismic', 'm']}"
   ]
  },
  {
   "cell_type": "markdown",
   "id": "5c60e704-57ae-4d35-aca8-2dbc8ad5f84a",
   "metadata": {},
   "source": [
    "Then, I'll create all of the subplots:"
   ]
  },
  {
   "cell_type": "code",
   "execution_count": null,
   "id": "bd252056-d8e7-4cce-a50d-43e20b50c301",
   "metadata": {},
   "outputs": [],
   "source": [
    "# fig = plt.figure(figsize=(12,8))\n",
    "\n",
    "\n",
    "# for i in range(len(variable_names)):\n",
    "#     variable_name = variable_names[i]\n",
    "    \n",
    "#     CA_init_grid = np.fromfile(os.path.join(input_dir,'ics',variable_name+'_IC.bin'),'>f4')\n",
    "\n",
    "#     if variable_name == 'ETAN':\n",
    "#         CA_init_grid = CA_init_grid.reshape((np.shape(XC)[0], np.shape(XC)[1]))\n",
    "#     else:\n",
    "#         CA_init_grid = CA_init_grid.reshape((np.shape(delR)[0],np.shape(XC)[0], np.shape(XC)[1]))\n",
    "#         CA_init_grid = CA_init_grid[10, :, :] # choose just the surface for plotting\n",
    "    \n",
    "#     plt.subplot(2,3,i+1)\n",
    "#     C = plt.pcolormesh(XC, YC, CA_init_grid,\n",
    "#                        vmin=meta_dict[variable_names[i]][0],\n",
    "#                        vmax=meta_dict[variable_names[i]][1],\n",
    "#                        cmap=meta_dict[variable_names[i]][2])\n",
    "#     plt.colorbar(C, label=variable_names[i]+' ('+meta_dict[variable_names[i]][3]+')',fraction=0.26)\n",
    "\n",
    "#     if i<5:\n",
    "#         plt.gca().set_xticklabels([])\n",
    "#     else:\n",
    "#         plt.gca().set_xlabel('Longitude')\n",
    "#     if i%2==1:\n",
    "#         plt.gca().set_yticklabels([])\n",
    "#     if i==7:\n",
    "#         plt.gca().axis('off')\n",
    "#     if i==2:\n",
    "#         plt.gca().set_ylabel('Latitude')\n",
    "#     plt.title(variable_name)\n",
    "\n",
    "# plt.tight_layout()\n",
    "\n",
    "# plt.show()"
   ]
  },
  {
   "cell_type": "markdown",
   "id": "c09ea7f2-2254-47f8-989b-04990088b89a",
   "metadata": {},
   "source": [
    "Looks good! Now we need to make our external forcing and boundary conditions before we're ready to run the model."
   ]
  },
  {
   "cell_type": "markdown",
   "id": "ffeeedb0-d365-4e6a-a6e1-222351fa222f",
   "metadata": {},
   "source": [
    "### Step 7: Run-time considerations\n",
    "To use the new pickup, be sure to specify `nIter=1` in your `data` file."
   ]
  }
 ],
 "metadata": {
  "kernelspec": {
   "display_name": "mitgcm",
   "language": "python",
   "name": "mitgcm"
  },
  "language_info": {
   "codemirror_mode": {
    "name": "ipython",
    "version": 3
   },
   "file_extension": ".py",
   "mimetype": "text/x-python",
   "name": "python",
   "nbconvert_exporter": "python",
   "pygments_lexer": "ipython3",
   "version": "3.10.10"
  }
 },
 "nbformat": 4,
 "nbformat_minor": 5
}
