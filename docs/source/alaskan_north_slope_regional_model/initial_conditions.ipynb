{
 "cells": [
  {
   "cell_type": "markdown",
   "id": "9dc175c8-f744-4655-9037-b313c486c951",
   "metadata": {},
   "source": [
    "In this notebook, we will explore the creation of the initial conditions for the Alaskan North Slope model. In our previous example models, the initial conditions were generated using model output fields generated as monthly averages. Here, will explore a different approach using existing model pickups.\n",
    "\n",
    "This model poses two new challenges that were not observeded in the previous model. First, the regional model grid has different depth levels compared to the ECCO grid, so we will also need to interpolate the variables vertically. Second, the grid is at very high latitude, which means we will need to reproject the fields to an appropriate coordinate system before interpolation. \n",
    "\n",
    "First, import packages to visualize the model fields here:"
   ]
  },
  {
   "cell_type": "code",
   "execution_count": 1,
   "id": "836f57c0-6983-48ce-b8a0-31c5b04463a7",
   "metadata": {},
   "outputs": [],
   "source": [
    "# import modules for computation and plotting\n",
    "import os\n",
    "import numpy as np\n",
    "import matplotlib.pyplot as plt\n",
    "from scipy.interpolate import griddata\n",
    "from matplotlib.gridspec import GridSpec\n",
    "import netCDF4 as nc4\n",
    "import cmocean.cm as cm\n",
    "\n",
    "# import pertinent tools from eccoseas\n",
    "from eccoseas.ecco import pickup\n",
    "from eccoseas.ecco import grid\n",
    "from eccoseas.ecco import io\n",
    "from eccoseas.downscale import horizontal\n",
    "from eccoseas.toolbox import reprojection"
   ]
  },
  {
   "cell_type": "markdown",
   "id": "5ea43d2c-8106-4b7e-9d71-dda71ff556e4",
   "metadata": {},
   "source": [
    "## Constructing the Initial Conditions\n",
    "For this model, we will use pickup files from the ECCO-Darwin model to construct the initial conditions. We will work with the physics-only pickup first, and then showcase the rest of the conditions below."
   ]
  },
  {
   "cell_type": "markdown",
   "id": "7c5328af-a028-439b-a89a-4f39b72a9a65",
   "metadata": {},
   "source": [
    "### Step 1: Download the ECCO Files\n",
    "To begin, ensure that all of the necessary pickup and grid files are obtained for this configuration. These are listed on the Overview page for this model. \n",
    "\n",
    "These files are stored in the following directory:"
   ]
  },
  {
   "cell_type": "code",
   "execution_count": 2,
   "id": "1747b211-af0c-4e11-9352-0ac76399982e",
   "metadata": {},
   "outputs": [
    {
     "name": "stdout",
     "output_type": "stream",
     "text": [
      "Alaskan North Slope files:\n",
      " - AngleCS.data\n",
      " - AngleSN.data\n",
      " - DRF.data\n",
      " - NorthSlope.mitgrid\n",
      " - NorthSlope_ncgrid.nc\n",
      " - RF.data\n",
      " - hFacC.data\n",
      " - hFacS.data\n",
      " - hFacW.data\n",
      " - pickup.0000000001.data\n",
      " - pickup.0000000001.meta\n",
      " - pickup.0000000004.data\n",
      " - tile001.mitgrid\n",
      " - tile002.mitgrid\n",
      " - tile003.mitgrid\n",
      " - tile004.mitgrid\n",
      " - tile005.mitgrid\n"
     ]
    }
   ],
   "source": [
    "data_folder = '../../../data/alaskan_north_slope'\n",
    "\n",
    "print('Alaskan North Slope files:')\n",
    "for file_name in sorted(os.listdir(data_folder)):\n",
    "    if file_name[0]!='.':\n",
    "        print(' - '+file_name)"
   ]
  },
  {
   "cell_type": "markdown",
   "id": "d170a9e7-8862-4e25-b732-1268f2c77c5a",
   "metadata": {},
   "source": [
    "### Step 2: Read in the pickup file and the ECCO grid\n",
    "To read in the pickup, we will rely on the `pickup` module from the `eccoseas.ecco`:"
   ]
  },
  {
   "cell_type": "code",
   "execution_count": 3,
   "id": "a925b6ec-93ab-429b-a830-d6591b15a327",
   "metadata": {},
   "outputs": [],
   "source": [
    "global_pickup_faces, global_pickup_metadata = \\\n",
    "    pickup.read_ecco_pickup_file_to_faces(os.path.join(data_folder,'pickup.0000000001'), llc=270)"
   ]
  },
  {
   "cell_type": "markdown",
   "id": "0a736757",
   "metadata": {},
   "source": [
    "The function to read the pickup file returns both the data as well as the metadata. Let's have a look at the fields in the data:"
   ]
  },
  {
   "cell_type": "code",
   "execution_count": 4,
   "id": "0bd668dc",
   "metadata": {},
   "outputs": [
    {
     "name": "stdout",
     "output_type": "stream",
     "text": [
      "Metadata components:\n",
      "  - nDims 2\n",
      "  - dimList [[270, 1, 270], [3510, 1, 3510]]\n",
      "  - dataprec float64\n",
      "  - nrecords 403\n",
      "  - timeStepNumber 78841\n",
      "  - timeInterval 94609200.0\n",
      "  - nFlds 11\n",
      "  - fldList ['Uvel', 'Vvel', 'Theta', 'Salt', 'GuNm1', 'GuNm2', 'GvNm1', 'GvNm2', 'EtaN', 'dEtaHdt', 'EtaH']\n"
     ]
    }
   ],
   "source": [
    "print('Metadata components:')\n",
    "for item in global_pickup_metadata:\n",
    "    print('  -', item, global_pickup_metadata[item])"
   ]
  },
  {
   "cell_type": "markdown",
   "id": "566e471c",
   "metadata": {},
   "source": [
    "Following the previous notebooks, we will organize the data into ECCO tiles for the interpolation. As of now, the pickup file is read into ECCO faces. The `grid` module allows for an easy conversion to tiles."
   ]
  },
  {
   "cell_type": "code",
   "execution_count": 5,
   "id": "ebc80eed",
   "metadata": {},
   "outputs": [],
   "source": [
    "global_pickup_tiles = {}\n",
    "for field_name in global_pickup_metadata['fldList']:\n",
    "    field_faces = global_pickup_faces[field_name]\n",
    "    field_tiles = grid.ecco_faces_to_tiles(field_faces, llc=270, dim=3)\n",
    "    global_pickup_tiles[field_name] = field_tiles"
   ]
  },
  {
   "cell_type": "markdown",
   "id": "cc7cdf43-6eeb-4e0e-8d5a-fe931dcaccba",
   "metadata": {},
   "source": [
    "Next, we will read in the ECCO grid and convert the grid to tiles:"
   ]
  },
  {
   "cell_type": "code",
   "execution_count": 6,
   "id": "732661d7-64c5-4689-8e9a-68fffa55ce9f",
   "metadata": {},
   "outputs": [],
   "source": [
    "ecco_XC_faces, ecco_YC_faces, ecco_AngleCS_faces, ecco_AngleSN_faces, ecco_hFacC_faces, ecco_hFacW_faces, ecco_hFacS_faces =\\\n",
    "     io.read_ecco_geometry_to_faces(data_folder, llc=270, Nr=50)"
   ]
  },
  {
   "cell_type": "code",
   "execution_count": 7,
   "id": "d3774b14-569e-4b03-890b-b2386ef50c21",
   "metadata": {},
   "outputs": [],
   "source": [
    "ecco_XC_tiles = grid.ecco_faces_to_tiles(ecco_XC_faces, llc=270, dim=2)\n",
    "ecco_YC_tiles = grid.ecco_faces_to_tiles(ecco_YC_faces, llc=270, dim=2)\n",
    "ecco_AngleCS_tiles = grid.ecco_faces_to_tiles(ecco_AngleCS_faces, llc=270, dim=2)\n",
    "ecco_AngleSN_tiles = grid.ecco_faces_to_tiles(ecco_AngleSN_faces, llc=270, dim=2)\n",
    "ecco_hFacC_tiles = grid.ecco_faces_to_tiles(ecco_hFacC_faces, llc=270, dim=3)\n",
    "ecco_hFacS_tiles = grid.ecco_faces_to_tiles(ecco_hFacS_faces, llc=270, dim=3)\n",
    "ecco_hFacW_tiles = grid.ecco_faces_to_tiles(ecco_hFacW_faces, llc=270, dim=3)\n",
    "ecco_RF = np.fromfile(os.path.join(data_folder,'RF.data'), '>f4')\n",
    "ecco_DRF = np.fromfile(os.path.join(data_folder,'DRF.data'), '>f4')"
   ]
  },
  {
   "cell_type": "code",
   "execution_count": 8,
   "id": "f3c9e65b-f34e-4a23-9621-2d9213cbdd0b",
   "metadata": {},
   "outputs": [],
   "source": [
    "Nr = np.size(ecco_DRF)"
   ]
  },
  {
   "cell_type": "markdown",
   "id": "64a135ac-a5bb-4766-83b5-60039dcc0c56",
   "metadata": {},
   "source": [
    "### Step 3: Read in the Regional Model Grid and Mask\n",
    "Since the model grid has already been generated for this model (see note in Overview), we will read it in from the nc file:"
   ]
  },
  {
   "cell_type": "code",
   "execution_count": 63,
   "id": "f48b8cc3-eb40-40c3-b61e-1359d986109d",
   "metadata": {},
   "outputs": [],
   "source": [
    "# define the parameters that will be used in the data file\n",
    "ds = nc4.Dataset('../../../data/alaskan_north_slope/NorthSlope_ncgrid.nc')\n",
    "XC = ds.variables['XC'][:, :]\n",
    "YC = ds.variables['YC'][:, :]\n",
    "bathy = -1*ds.variables['Depth'][:,:]\n",
    "AngleCS = ds.variables['AngleCS'][:,:]\n",
    "AngleSN = ds.variables['AngleSN'][:,:]\n",
    "hFacC = ds.variables['HFacC'][:, :, :]\n",
    "hFacW = ds.variables['HFacW'][:, :, :]\n",
    "hFacS = ds.variables['HFacS'][:, :, :]\n",
    "delR = ds.variables['drF'][:]\n",
    "ds.close()\n",
    "\n",
    "# remove the extra row and col from hFacS and hFacW\n",
    "hFacS = hFacS[:,:-1,:]\n",
    "hFacW = hFacW[:,:,:-1]"
   ]
  },
  {
   "cell_type": "markdown",
   "id": "1eb82b3d-ffa2-4312-916f-3325a0089c6b",
   "metadata": {},
   "source": [
    "The mask is generated by setting all of the non-zero `hFac` points to 1:"
   ]
  },
  {
   "cell_type": "code",
   "execution_count": 64,
   "id": "d1dcfe0a-3641-43d7-99aa-88a48310eeda",
   "metadata": {},
   "outputs": [],
   "source": [
    "maskC = np.copy(hFacC)\n",
    "maskC[maskC>0] = 1\n",
    "\n",
    "maskW = np.copy(hFacW)\n",
    "maskW[maskW>0] = 1\n",
    "\n",
    "maskS = np.copy(hFacS)\n",
    "maskS[maskS>0] = 1"
   ]
  },
  {
   "cell_type": "markdown",
   "id": "a37e0e64-13eb-4122-ae3c-0fead095fc9b",
   "metadata": {},
   "source": [
    "### Step 4: Prepare the grids for interpolation\n",
    "At this point, we can use the geometry of both grids to check to see which tiles have the information we need. For this model, we need tiles 7 and 8:"
   ]
  },
  {
   "cell_type": "code",
   "execution_count": 11,
   "id": "b1787f19",
   "metadata": {},
   "outputs": [],
   "source": [
    "# define the tile list\n",
    "tile_list = [7,8]"
   ]
  },
  {
   "cell_type": "markdown",
   "id": "144a3587",
   "metadata": {},
   "source": [
    "Let's verify that these tiles cover our grid:"
   ]
  },
  {
   "cell_type": "code",
   "execution_count": 12,
   "id": "076dfc32-ab58-422e-9b5a-47985af1e190",
   "metadata": {},
   "outputs": [
    {
     "data": {
      "image/png": "[encoded data removed]",
      "text/plain": [
       "<Figure size 432x288 with 1 Axes>"
      ]
     },
     "metadata": {
      "needs_background": "light"
     },
     "output_type": "display_data"
    }
   ],
   "source": [
    "# plot the ECCO tile points\n",
    "for tile in tile_list:\n",
    "    plt.plot(ecco_XC_tiles[tile],ecco_YC_tiles[tile],'k.')\n",
    "\n",
    "# plot the boundary of the regional model\n",
    "plt.plot(XC[:,0],YC[:,0], 'g-')\n",
    "plt.plot(XC[:,-1],YC[:,-1], 'g-')\n",
    "plt.plot(XC[0,:],YC[0,:], 'g-')\n",
    "plt.plot(XC[-1,:],YC[-1,:], 'g-')\n",
    "\n",
    "plt.xlabel('Longitude')\n",
    "plt.ylabel('Latitude')\n",
    "plt.show()"
   ]
  },
  {
   "cell_type": "markdown",
   "id": "b332346e-acea-4d60-9494-8d850824b8f4",
   "metadata": {},
   "source": [
    "As we can see, this model boundary (green) is completely surrounded by the points in tile 7 and 8 (black). We also note that there is extraneous information in points with longitude greater than 0 - I will omit these points as well. Given these observations, now I read in points from just those tiles to use in interpolation:"
   ]
  },
  {
   "cell_type": "code",
   "execution_count": 13,
   "id": "bfd5f5ec-1a41-4da6-81aa-9d121dfa023a",
   "metadata": {},
   "outputs": [],
   "source": [
    "# determine the number of points in each set\n",
    "total_points = 0\n",
    "for tile_number in tile_list:\n",
    "    total_points += np.size(ecco_XC_tiles[tile_number])\n",
    "\n",
    "# make empty arrays to fill in\n",
    "ecco_XC_points = np.zeros((total_points, ))\n",
    "ecco_YC_points = np.zeros((total_points, ))\n",
    "ecco_AngleCS_points = np.zeros((total_points, ))\n",
    "ecco_AngleSN_points = np.zeros((total_points, ))\n",
    "ecco_maskC_points = np.zeros((Nr, total_points))\n",
    "ecco_maskW_points = np.zeros((Nr, total_points))\n",
    "ecco_maskS_points = np.zeros((Nr, total_points))\n",
    "ecco_hFacW_points = np.zeros((Nr, total_points))\n",
    "ecco_hFacS_points = np.zeros((Nr, total_points))\n",
    "\n",
    "# loop through the tiles and fill in the XC, YC, and mask points for interpolation\n",
    "points_counted = 0\n",
    "for tile_number in tile_list:\n",
    "    tile_N = np.size(ecco_XC_tiles[tile_number])\n",
    "    \n",
    "    ecco_XC_points[points_counted:points_counted+tile_N] = ecco_XC_tiles[tile_number].ravel()\n",
    "    ecco_YC_points[points_counted:points_counted+tile_N] = ecco_YC_tiles[tile_number].ravel()\n",
    "\n",
    "    ecco_AngleCS_points[points_counted:points_counted+tile_N] = ecco_AngleCS_tiles[tile_number].ravel()\n",
    "    ecco_AngleSN_points[points_counted:points_counted+tile_N] = ecco_AngleSN_tiles[tile_number].ravel()\n",
    "    \n",
    "    for k in range(Nr):\n",
    "        level_hFacC = ecco_hFacC_tiles[tile_number][k, :, :]\n",
    "        if tile_number<7:\n",
    "            level_hFacW = ecco_hFacW_tiles[tile_number][k, :, :]\n",
    "            level_hFacS = ecco_hFacS_tiles[tile_number][k, :, :]\n",
    "        else:\n",
    "            level_hFacS = ecco_hFacW_tiles[tile_number][k, :, :] # these are switched due to the \n",
    "            level_hFacW = ecco_hFacS_tiles[tile_number][k, :, :] # assumptions about velocity - see note below\n",
    "        ecco_hFacW_points[k, points_counted:points_counted+tile_N] = level_hFacW.ravel()\n",
    "        ecco_hFacS_points[k, points_counted:points_counted+tile_N] = level_hFacS.ravel()\n",
    "        level_maskC = np.copy(level_hFacC)\n",
    "        level_maskC[level_maskC>0] = 1\n",
    "        level_maskW = np.copy(level_hFacW)\n",
    "        level_maskW[level_maskW>0] = 1\n",
    "        level_maskS = np.copy(level_hFacS)\n",
    "        level_maskS[level_maskS>0] = 1\n",
    "        ecco_maskC_points[k, points_counted:points_counted+tile_N] = level_maskC.ravel()\n",
    "        ecco_maskW_points[k, points_counted:points_counted+tile_N] = level_maskW.ravel()\n",
    "        ecco_maskS_points[k, points_counted:points_counted+tile_N] = level_maskS.ravel()\n",
    "    \n",
    "    points_counted += tile_N\n",
    "\n",
    "# remove the points with positive longitude\n",
    "local_indices = (ecco_XC_points<-140) & (ecco_XC_points>-160) & (ecco_YC_points>65) & (ecco_YC_points<80)\n",
    "ecco_maskC_points = ecco_maskC_points[:, local_indices]\n",
    "ecco_maskW_points = ecco_maskW_points[:, local_indices]\n",
    "ecco_maskS_points = ecco_maskS_points[:, local_indices]\n",
    "ecco_hFacW_points = ecco_hFacW_points[:, local_indices]\n",
    "ecco_hFacS_points = ecco_hFacS_points[:, local_indices]\n",
    "ecco_YC_points = ecco_YC_points[local_indices]\n",
    "ecco_XC_points = ecco_XC_points[local_indices]"
   ]
  },
  {
   "cell_type": "markdown",
   "id": "1b93a75f-cbc4-4c16-ba08-e120da5d350b",
   "metadata": {},
   "source": [
    "We can double check we have selected the right points by recreating the same plot above:"
   ]
  },
  {
   "cell_type": "code",
   "execution_count": 14,
   "id": "a7c22076-6a16-4b13-abc6-b8ad38bbdf4d",
   "metadata": {},
   "outputs": [
    {
     "data": {
      "image/png": "[encoded data removed]",
      "text/plain": [
       "<Figure size 432x288 with 1 Axes>"
      ]
     },
     "metadata": {
      "needs_background": "light"
     },
     "output_type": "display_data"
    }
   ],
   "source": [
    "# plot the ECCO tile points\n",
    "plt.plot(ecco_XC_points,ecco_YC_points,'k.')\n",
    "\n",
    "# plot the boundary of the regional model\n",
    "plt.plot(XC[:,0],YC[:,0], 'g-')\n",
    "plt.plot(XC[:,-1],YC[:,-1], 'g-')\n",
    "plt.plot(XC[0,:],YC[0,:], 'g-')\n",
    "plt.plot(XC[-1,:],YC[-1,:], 'g-')\n",
    "\n",
    "plt.xlabel('Longitude')\n",
    "plt.ylabel('Latitude')\n",
    "plt.show()"
   ]
  },
  {
   "cell_type": "markdown",
   "id": "3a5e1fb6-fcd6-463d-9395-07837dad6a76",
   "metadata": {},
   "source": [
    "### Step 5: Interpolate the ECCO fields vertically"
   ]
  },
  {
   "cell_type": "code",
   "execution_count": null,
   "id": "ed2c9db0-a439-4171-a896-08f6aa55fcb3",
   "metadata": {},
   "outputs": [],
   "source": []
  },
  {
   "cell_type": "code",
   "execution_count": null,
   "id": "8094ab25-3b62-42d4-be4b-517051ac320a",
   "metadata": {},
   "outputs": [],
   "source": []
  },
  {
   "cell_type": "code",
   "execution_count": null,
   "id": "e979fb46-a465-42b8-9314-3878a12df317",
   "metadata": {},
   "outputs": [],
   "source": []
  },
  {
   "cell_type": "markdown",
   "id": "c4462677-8079-45e5-9faf-d39452350218",
   "metadata": {},
   "source": [
    "Next, we'll read in the real data fields and apply the modifications. First, create a dictionary to store the file names:"
   ]
  },
  {
   "cell_type": "code",
   "execution_count": 15,
   "id": "4dbb96e5-bef6-4307-a5b3-f4441a930f3b",
   "metadata": {},
   "outputs": [],
   "source": [
    "# make a file dictionary to loop over\n",
    "variable_names = global_pickup_metadata['fldList']"
   ]
  },
  {
   "cell_type": "markdown",
   "id": "1bf5206c-6f45-431e-9988-a1b007ce954e",
   "metadata": {},
   "source": [
    "Now, read the initial condition fields from the same tiles. Here, we have to confront the weirdness of the ECCO LLC grid"
   ]
  },
  {
   "cell_type": "code",
   "execution_count": 16,
   "id": "6963b363-9245-4f9b-9f40-2b7318286460",
   "metadata": {},
   "outputs": [],
   "source": [
    "# make a list to hold all of the ECCO grids\n",
    "init_grids = []\n",
    "\n",
    "# loop through each variable to read in the grid\n",
    "for variable_name in variable_names:\n",
    "    \n",
    "    if variable_name in ['Uvel','Vvel']:\n",
    "        u_grid_tiles = global_pickup_tiles['Uvel']\n",
    "        v_grid_tiles = global_pickup_tiles['Vvel']\n",
    "        grid_tiles = u_grid_tiles # hack for testing, fix later\n",
    "    else:\n",
    "        grid_tiles = global_pickup_tiles[variable_name]\n",
    "\n",
    "    # create a grid of zeros to fill in\n",
    "    N = np.shape(grid_tiles[1])[-1]*np.shape(grid_tiles[1])[-2]\n",
    "    if variable_name in ['EtaN', 'dEtaHdt', 'EtaH']:\n",
    "        init_grid = np.zeros((1, N*len(tile_list)))\n",
    "    else:\n",
    "        init_grid = np.zeros((Nr, N*len(tile_list)))\n",
    "\n",
    "    # loop through the tiles\n",
    "    points_counted = 0\n",
    "    for tile_number in tile_list:\n",
    "        if variable_name in ['EtaN', 'dEtaHdt', 'EtaH']:\n",
    "            init_grid[0,points_counted:points_counted+N] = \\\n",
    "                 grid_tiles[tile_number][0, :, :].ravel()\n",
    "        else:\n",
    "            for k in range(Nr):\n",
    "                init_grid[k,points_counted:points_counted+N] = \\\n",
    "                     grid_tiles[tile_number][k, :, :].ravel()\n",
    "        points_counted += N\n",
    "\n",
    "    # remove the points with positive longitudes\n",
    "    init_grid = init_grid[:,local_indices]\n",
    "\n",
    "    # apply some corrections\n",
    "    if variable_name == 'Uvel':\n",
    "        for k in range(Nr):\n",
    "            non_zero_indices = ecco_hFacW_points[k,:]!=0\n",
    "            init_grid[k,non_zero_indices] = init_grid[k,non_zero_indices]/(ecco_hFacW_points[k,non_zero_indices])\n",
    "    if variable_name == 'Vvel':\n",
    "        for k in range(Nr):\n",
    "            non_zero_indices = ecco_hFacS_points[k,:]!=0\n",
    "            init_grid[k,non_zero_indices] = init_grid[k,non_zero_indices]/(ecco_hFacS_points[k,non_zero_indices])\n",
    "    \n",
    "    init_grids.append(init_grid)"
   ]
  },
  {
   "cell_type": "code",
   "execution_count": null,
   "id": "c14c8d8f-23dc-4e2e-a453-1fe777d3eada",
   "metadata": {},
   "outputs": [],
   "source": []
  },
  {
   "cell_type": "code",
   "execution_count": null,
   "id": "f05fc229-862e-49ea-8f31-60e774af1d73",
   "metadata": {},
   "outputs": [],
   "source": []
  },
  {
   "cell_type": "markdown",
   "id": "c8e32043-a3a3-49df-a724-de2be9f98708",
   "metadata": {},
   "source": [
    "### Step 5: Interpolate the Fields onto the Model Grid\n",
    "Next, we will interpolate the ECCO pickup fields onto the regional model domain. We will use the `horizontal` module from the `eccoseas` package to accomplish this interpolation. However, we have to be a little bit careful in this region of the world near the pole since the longitude and latitude mesh is quite distorted in terms of absolute distance. \n",
    "\n",
    "First, let's try this in latitude-longitude coordinates:"
   ]
  },
  {
   "cell_type": "code",
   "execution_count": null,
   "id": "9e93b042-4078-494c-a973-c9fe7270dfeb",
   "metadata": {},
   "outputs": [],
   "source": []
  },
  {
   "cell_type": "code",
   "execution_count": 17,
   "id": "0c0c804d",
   "metadata": {},
   "outputs": [
    {
     "name": "stdout",
     "output_type": "stream",
     "text": [
      "    Working on level 0 of 1 (338562 nonzero points found)\n"
     ]
    }
   ],
   "source": [
    "interpolated_grid = horizontal.downscale_3D_points(np.column_stack([ecco_XC_points, ecco_YC_points]),\n",
    "                                                       init_grid, ecco_maskC_points, \n",
    "                                                       XC, YC, maskC, testing=True, printing=True, use_legacy=True, verbose=True)\n",
    "\n",
    "\n",
    "# output the interpolated grid\n",
    "#output_file = os.path.join(input_dir,'ics',variable_name+'_IC.bin')\n",
    "#interpolated_grid.ravel('C').astype('>f4').tofile(output_file)"
   ]
  },
  {
   "cell_type": "code",
   "execution_count": 18,
   "id": "f71b19c7",
   "metadata": {},
   "outputs": [
    {
     "data": {
      "image/png": "[encoded data removed]",
      "text/plain": [
       "<Figure size 432x288 with 2 Axes>"
      ]
     },
     "metadata": {
      "needs_background": "light"
     },
     "output_type": "display_data"
    }
   ],
   "source": [
    "C = plt.pcolormesh(interpolated_grid[0,:,:],vmin=-1.97, vmax=-1.85, cmap='turbo')\n",
    "plt.colorbar(C)\n",
    "plt.show()"
   ]
  },
  {
   "cell_type": "markdown",
   "id": "8b21a809",
   "metadata": {},
   "source": [
    "### Step 5 (Revised for the Arctic): Interpolate the Fields onto the Model Grid "
   ]
  },
  {
   "cell_type": "markdown",
   "id": "feab010a-f42e-4009-bfff-f9f2f9a61a69",
   "metadata": {},
   "source": [
    "Next, let's try reprojecting coordinates to that distances are computed more appropriately for the location. We can do this with the `reprojection` model provided with **eccoseas**:"
   ]
  },
  {
   "cell_type": "code",
   "execution_count": 19,
   "id": "5b0ba803-c921-427c-80e9-2f556891367d",
   "metadata": {},
   "outputs": [],
   "source": [
    "utm_zone_epsg = 32606\n",
    "utm_coordinates = reprojection.reproject_polygon(np.column_stack([ecco_XC_points, ecco_YC_points]), 4326, utm_zone_epsg)\n",
    "\n",
    "regional_coordinates = reprojection.reproject_polygon(np.column_stack([XC.ravel(), YC.ravel()]), 4326, utm_zone_epsg)\n",
    "X = regional_coordinates[:,0].reshape(np.shape(XC))\n",
    "Y = regional_coordinates[:,1].reshape(np.shape(XC))"
   ]
  },
  {
   "cell_type": "code",
   "execution_count": 20,
   "id": "30f454eb-828a-41c9-98b7-a9d56a148e09",
   "metadata": {},
   "outputs": [],
   "source": [
    "ecco_maskC_on_regional_domain = np.zeros_like(maskC)\n",
    "for k in range(1):\n",
    "    ecco_maskC_on_regional_domain[k,:,:] = griddata(utm_coordinates, ecco_maskC_points[0,:], (X, Y), method='nearest')"
   ]
  },
  {
   "cell_type": "code",
   "execution_count": 21,
   "id": "23ebd053-bee0-4c19-a578-94813c127702",
   "metadata": {},
   "outputs": [],
   "source": [
    "ecco_maskC_on_regional_domain = np.ones_like(maskC)\n",
    "threshold = 25e3 # approximate ECCO resolution in this region\n",
    "for k in range(1):\n",
    "    level = np.ones_like(ecco_maskC_on_regional_domain[k,:,:])\n",
    "    for p in range(np.shape(utm_coordinates)[0]):\n",
    "        if ecco_maskC_points[k,p]==0:\n",
    "            dist = ((utm_coordinates[p,0]-X)**2 + (utm_coordinates[p,1]-Y)**2)**0.5\n",
    "            level[dist<threshold] = 0\n",
    "            ecco_maskC_on_regional_domain[k,:,:] =level"
   ]
  },
  {
   "cell_type": "code",
   "execution_count": 22,
   "id": "4fb61074-f2d2-4cca-b0fb-e347df46c4a5",
   "metadata": {},
   "outputs": [
    {
     "data": {
      "text/plain": [
       "<matplotlib.collections.QuadMesh at 0x17d0b8940>"
      ]
     },
     "execution_count": 22,
     "metadata": {},
     "output_type": "execute_result"
    },
    {
     "data": {
      "image/png": "[encoded data removed]",
      "text/plain": [
       "<Figure size 432x288 with 2 Axes>"
      ]
     },
     "metadata": {
      "needs_background": "light"
     },
     "output_type": "display_data"
    }
   ],
   "source": [
    "plt.subplot(1,2,1)\n",
    "plt.pcolormesh(ecco_maskC_on_regional_domain[0,:,:])\n",
    "plt.subplot(1,2,2)\n",
    "plt.pcolormesh(maskC[0,:,:])"
   ]
  },
  {
   "cell_type": "code",
   "execution_count": 23,
   "id": "dad6a9bb-e515-45bd-b58e-d167dfdb476a",
   "metadata": {},
   "outputs": [
    {
     "name": "stdout",
     "output_type": "stream",
     "text": [
      "    Working on level 0 of 1 (338562 nonzero points found)\n"
     ]
    }
   ],
   "source": [
    "interpolated_grid = horizontal.downscale_3D_points(utm_coordinates,\n",
    "                                                   init_grid, ecco_maskC_points, \n",
    "                                                   X, Y, maskC, ecco_maskC_on_regional_domain,\n",
    "                                                   testing=True, printing=True)"
   ]
  },
  {
   "cell_type": "code",
   "execution_count": 24,
   "id": "d2a43d74-eec5-4eb6-a6e9-8d6649c6c9d2",
   "metadata": {},
   "outputs": [
    {
     "data": {
      "image/png": "[encoded data removed]",
      "text/plain": [
       "<Figure size 432x288 with 2 Axes>"
      ]
     },
     "metadata": {
      "needs_background": "light"
     },
     "output_type": "display_data"
    }
   ],
   "source": [
    "C = plt.pcolormesh(interpolated_grid[0,:,:],vmin=-1.97, vmax=-1.85, cmap='turbo')\n",
    "plt.colorbar(C)\n",
    "plt.show()"
   ]
  },
  {
   "cell_type": "code",
   "execution_count": null,
   "id": "d0aae164-a3f8-470b-a973-7f7ddffdcef1",
   "metadata": {},
   "outputs": [
    {
     "name": "stdout",
     "output_type": "stream",
     "text": [
      "    - Interpolating the Uvel grid\n",
      "    - Interpolating the Vvel grid\n",
      "    - Interpolating the Theta grid\n",
      "    - Interpolating the Salt grid\n",
      "    - Interpolating the GuNm1 grid\n",
      "    - Interpolating the GuNm2 grid\n",
      "    - Interpolating the GvNm1 grid\n",
      "    - Interpolating the GvNm2 grid\n"
     ]
    }
   ],
   "source": [
    "pickup_grids = []\n",
    "\n",
    "# loop through each variable and corresponding ECCO grid\n",
    "for variable_name, init_grid in zip(variable_names, init_grids):\n",
    "\n",
    "    print('    - Interpolating the '+variable_name+' grid')\n",
    "\n",
    "    # read in the correct mask for each variable\n",
    "    if variable_name.lower() in ['etan','detahdt','etah']:\n",
    "        regional_mask = maskC[:1,:,:]\n",
    "        ecco_mask = ecco_maskC_points[:1,:]\n",
    "    elif variable_name.lower() == 'uvel':\n",
    "        regional_mask = maskW\n",
    "        ecco_mask = ecco_maskW_points\n",
    "    elif variable_name.lower() == 'vvel':\n",
    "        regional_mask = maskS\n",
    "        ecco_mask = ecco_maskS_points\n",
    "    else:\n",
    "        regional_mask = maskC\n",
    "        ecco_mask = ecco_maskC_points\n",
    "\n",
    "    interpolated_grid = horizontal.downscale_3D_points(utm_coordinates,\n",
    "                                                       init_grid, ecco_mask, \n",
    "                                                       X, Y, regional_mask, ecco_maskC_on_regional_domain,\n",
    "                                                       testing=True)\n",
    "    #interpolated_grid = np.zeros_like(regional_mask)\n",
    "    \n",
    "\n",
    "    pickup_grids.append(interpolated_grid)"
   ]
  },
  {
   "cell_type": "code",
   "execution_count": 62,
   "id": "286626ac-0965-416d-9526-f00b39c5cf19",
   "metadata": {},
   "outputs": [],
   "source": [
    "input_dir = data_folder"
   ]
  },
  {
   "cell_type": "code",
   "execution_count": 46,
   "id": "c6727985-bfcb-4bd3-b61f-6cf19b923fd2",
   "metadata": {},
   "outputs": [
    {
     "name": "stdout",
     "output_type": "stream",
     "text": [
      "81\n",
      "       - Stacking field for Uvel\n",
      "       - Stacking field for Vvel\n",
      "       - Stacking field for Theta\n",
      "       - Stacking field for Salt\n",
      "       - Stacking field for GuNm1\n",
      "       - Stacking field for GuNm2\n",
      "       - Stacking field for GvNm1\n",
      "       - Stacking field for GvNm2\n",
      "       - Stacking field for EtaN\n",
      "       - Stacking field for dEtaHdt\n",
      "       - Stacking field for EtaH\n"
     ]
    }
   ],
   "source": [
    "metadata = global_pickup_metadata\n",
    "#make some changes as needed\n",
    "Nr = 81\n",
    "metadata['nrecords'] = 8*Nr+3\n",
    "print(Nr)\n",
    "\n",
    "pickup_grid = np.zeros((8*Nr+3, np.shape(XC)[0], np.shape(XC)[1]))\n",
    "counter = 0\n",
    "for i in range(len(pickup_grids)):\n",
    "    print('       - Stacking field for '+variable_names[i])\n",
    "    pickup_grid[counter:counter+np.shape(var_grid)[0],:,:] = var_grid\n",
    "    counter+=np.shape(var_grid)[0]\n",
    "\n",
    "output_file_path = os.path.join(input_dir,'pickup.0000000004')\n",
    "pickup.write_mitgcm_pickup_file(output_file_path, pickup_grid, metadata)"
   ]
  },
  {
   "cell_type": "markdown",
   "id": "efe30ee2-7b83-498d-813c-9b9ea152ed6f",
   "metadata": {},
   "source": [
    "### Step 6: Plotting the Initial Condition Fields\n",
    "Now that the fields have been generated, I will plot them to ensure they look as expected. First, I'll generate some metadata for each one:"
   ]
  },
  {
   "cell_type": "code",
   "execution_count": 47,
   "id": "e7ac447d-91d1-4a85-b4c3-12529580db54",
   "metadata": {},
   "outputs": [],
   "source": [
    "# 'Uvel', 'Vvel', 'Theta', 'Salt', 'GuNm1', 'GuNm2', 'GvNm1', 'GvNm2', 'EtaN', 'dEtaHdt', 'EtaH'\n",
    "meta_dict = {'EtaN':[0.1, 0.5, 'viridis', 'm'],\n",
    "             'dEtaHdt':[0.1, 0.5, 'viridis', 'm'],\n",
    "             'EtaH':[0.1, 0.5, 'viridis', 'm'],\n",
    "            'Theta':[6, 18, 'turbo', 'm'],\n",
    "            'Salt':[32, 35, 'viridis', 'm'],\n",
    "            'Uvel':[-0.25, 0.25, 'seismic', 'm/s'],\n",
    "            'Vvel':[-0.25, 0.25, 'seismic', 'm/s'],\n",
    "            'GuNm1':[-0.25, 0.25, 'seismic', 'm/s$^2$'],\n",
    "            'GvNm1':[-0.25, 0.25, 'seismic', 'm/s$^2$'],\n",
    "            'GuNm2':[-0.25, 0.25, 'seismic', 'm/s$^2$'],\n",
    "            'GvNm2':[-0.25, 0.25, 'seismic', 'm/s$^2$']}"
   ]
  },
  {
   "cell_type": "code",
   "execution_count": 55,
   "id": "b7dd05b1-0fd2-4a86-803a-863e1863389c",
   "metadata": {},
   "outputs": [],
   "source": [
    "pickup_file_path = os.path.join(input_dir,'pickup.0000000004')\n",
    "pickup_grids, pickup_metadata = pickup.read_ecco_pickup_file_to_compact(pickup_file_path, Nr=50)"
   ]
  },
  {
   "cell_type": "code",
   "execution_count": 56,
   "id": "8a34c1bf-55e9-4a84-ae66-0df5b3ae2426",
   "metadata": {},
   "outputs": [
    {
     "data": {
      "text/plain": [
       "{'nDims': 2,\n",
       " 'dimList': [[840, 1, 840], [510, 1, 510]],\n",
       " 'dataprec': 'float64',\n",
       " 'nrecords': 651,\n",
       " 'timeStepNumber': 78841,\n",
       " 'timeInterval': 94609200.0,\n",
       " 'nFlds': 11,\n",
       " 'fldList': ['Uvel',\n",
       "  'Vvel',\n",
       "  'Theta',\n",
       "  'Salt',\n",
       "  'GuNm1',\n",
       "  'GuNm2',\n",
       "  'GvNm1',\n",
       "  'GvNm2',\n",
       "  'EtaN',\n",
       "  'dEtaHdt',\n",
       "  'EtaH']}"
      ]
     },
     "execution_count": 56,
     "metadata": {},
     "output_type": "execute_result"
    }
   ],
   "source": [
    "pickup_metadata"
   ]
  },
  {
   "cell_type": "markdown",
   "id": "5c60e704-57ae-4d35-aca8-2dbc8ad5f84a",
   "metadata": {},
   "source": [
    "Then, I'll create all of the subplots:"
   ]
  },
  {
   "cell_type": "code",
   "execution_count": 60,
   "id": "bd252056-d8e7-4cce-a50d-43e20b50c301",
   "metadata": {},
   "outputs": [
    {
     "data": {
      "image/png": "[encoded data removed]",
      "text/plain": [
       "<Figure size 864x576 with 22 Axes>"
      ]
     },
     "metadata": {
      "needs_background": "light"
     },
     "output_type": "display_data"
    }
   ],
   "source": [
    "fig = plt.figure(figsize=(12,8))\n",
    "\n",
    "plot_counter = 1\n",
    "for variable_name in pickup_metadata['fldList']:\n",
    "    init_grid = pickup_grids[variable_name]\n",
    "    \n",
    "    plt.subplot(4,3,plot_counter)\n",
    "    C = plt.pcolormesh(init_grid[0,:,:], # just the surface for plotting\n",
    "                       #vmin=meta_dict[variable_names[i]][0],\n",
    "                       #vmax=meta_dict[variable_names[i]][1],\n",
    "                       cmap=meta_dict[variable_names[i]][2])\n",
    "    plt.colorbar(C, label=variable_names[i]+' ('+meta_dict[variable_names[i]][3]+')',fraction=0.26)\n",
    "\n",
    "    if i<5:\n",
    "        plt.gca().set_xticklabels([])\n",
    "    else:\n",
    "        plt.gca().set_xlabel('Longitude')\n",
    "    if i%2==1:\n",
    "        plt.gca().set_yticklabels([])\n",
    "    if i==7:\n",
    "        plt.gca().axis('off')\n",
    "    if i==2:\n",
    "        plt.gca().set_ylabel('Latitude')\n",
    "    plt.title(variable_name)\n",
    "\n",
    "    plot_counter+=1\n",
    "\n",
    "plt.tight_layout()\n",
    "\n",
    "plt.show()"
   ]
  },
  {
   "cell_type": "markdown",
   "id": "c09ea7f2-2254-47f8-989b-04990088b89a",
   "metadata": {},
   "source": [
    "So far so good! Now we need to make our the rest of our initial conditions."
   ]
  },
  {
   "cell_type": "code",
   "execution_count": null,
   "id": "a2fcf1c6-4243-4e7e-9a77-a8de1bf956f1",
   "metadata": {},
   "outputs": [],
   "source": []
  }
 ],
 "metadata": {
  "kernelspec": {
   "display_name": "mitgcm",
   "language": "python",
   "name": "mitgcm"
  },
  "language_info": {
   "codemirror_mode": {
    "name": "ipython",
    "version": 3
   },
   "file_extension": ".py",
   "mimetype": "text/x-python",
   "name": "python",
   "nbconvert_exporter": "python",
   "pygments_lexer": "ipython3",
   "version": "3.10.10"
  }
 },
 "nbformat": 4,
 "nbformat_minor": 5
}
